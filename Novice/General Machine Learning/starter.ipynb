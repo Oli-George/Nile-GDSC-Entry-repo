{
 "cells": [
  {
   "cell_type": "markdown",
   "id": "edde6642",
   "metadata": {},
   "source": [
    "# General Machine Learning - Novice Level\n",
    "\n",
    "Pick **ONE** task and complete it.\n",
    "\n",
    "**Tasks:**\n",
    "1. Linear Regression\n",
    "2. Classification Problem\n",
    "3. Clustering"
   ]
  },
  {
   "cell_type": "code",
   "execution_count": null,
   "id": "8e6f85d9",
   "metadata": {},
   "outputs": [],
   "source": [
    "# Import libraries\n",
    "import numpy as np\n",
    "from sklearn.linear_model import LinearRegression"
   ]
  },
  {
   "cell_type": "markdown",
   "id": "9e87c595",
   "metadata": {},
   "source": [
    "## Task 1: Linear Regression"
   ]
  },
  {
   "cell_type": "code",
   "execution_count": null,
   "id": "31e38d31",
   "metadata": {},
   "outputs": [],
   "source": [
    "# Load data\n",
    "X = np.array([1, 2, 3, 4, 5]).reshape(-1, 1)\n",
    "y = np.array([2, 4, 5, 4, 5])"
   ]
  },
  {
   "cell_type": "code",
   "execution_count": null,
   "id": "38eabef6",
   "metadata": {},
   "outputs": [],
   "source": [
    "# Build model\n",
    "model = LinearRegression()\n",
    "print(\"Slope (m):\", model.coef_[0])\n",
    "print(\"Intercept (b):\", model.intercept_)\n"
   ]
  },
  {
   "cell_type": "code",
   "execution_count": null,
   "id": "7ca745f8",
   "metadata": {},
   "outputs": [],
   "source": [
    "# Train\n",
    "model.fit(X, y)\n",
    "y_pred = model.predict(X)"
   ]
  },
  {
   "cell_type": "code",
   "execution_count": null,
   "id": "d209426c",
   "metadata": {},
   "outputs": [],
   "source": [
    "# Visualize results\n",
    "print(\"Predicted value for X = \\n\")\n",
    "for i in range(len(X)):\n",
    "    print(f\"{X[i][0]}: {y_pred[i]}\")"
   ]
  },
  {
   "cell_type": "markdown",
   "id": "a8b70443",
   "metadata": {},
   "source": [
    "## Task 2: Classification Problem"
   ]
  },
  {
   "cell_type": "code",
   "execution_count": null,
   "id": "a030b70e",
   "metadata": {},
   "outputs": [],
   "source": [
    "# Load dataset"
   ]
  },
  {
   "cell_type": "code",
   "execution_count": null,
   "id": "9ba0695f",
   "metadata": {},
   "outputs": [],
   "source": [
    "# Try classifier 1"
   ]
  },
  {
   "cell_type": "code",
   "execution_count": null,
   "id": "2d70c66e",
   "metadata": {},
   "outputs": [],
   "source": [
    "# Try classifier 2"
   ]
  },
  {
   "cell_type": "code",
   "execution_count": null,
   "id": "921b171e",
   "metadata": {},
   "outputs": [],
   "source": [
    "# Compare results"
   ]
  },
  {
   "cell_type": "markdown",
   "id": "59f663a3",
   "metadata": {},
   "source": [
    "## Task 3: Clustering"
   ]
  },
  {
   "cell_type": "code",
   "execution_count": null,
   "id": "883da6cf",
   "metadata": {},
   "outputs": [],
   "source": [
    "# Load data"
   ]
  },
  {
   "cell_type": "code",
   "execution_count": null,
   "id": "5ba40393",
   "metadata": {},
   "outputs": [],
   "source": [
    "# Apply K-means"
   ]
  },
  {
   "cell_type": "code",
   "execution_count": null,
   "id": "47156ed3",
   "metadata": {},
   "outputs": [],
   "source": [
    "# Visualize clusters"
   ]
  },
  {
   "cell_type": "code",
   "execution_count": null,
   "id": "fc912773",
   "metadata": {},
   "outputs": [],
   "source": [
    "# Find optimal K"
   ]
  }
 ],
 "metadata": {
  "kernelspec": {
   "display_name": "base",
   "language": "python",
   "name": "python3"
  },
  "language_info": {
   "name": "python",
   "version": "3.13.5"
  }
 },
 "nbformat": 4,
 "nbformat_minor": 5
}
